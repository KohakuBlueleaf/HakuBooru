{
 "cells": [
  {
   "cell_type": "code",
   "execution_count": 2,
   "metadata": {},
   "outputs": [],
   "source": [
    "import sqlite3\n",
    "import duckdb\n",
    "import pandas as pd\n",
    "\n",
    "from tqdm import tqdm"
   ]
  },
  {
   "cell_type": "code",
   "execution_count": 22,
   "metadata": {},
   "outputs": [],
   "source": [
    "# Connect to the SQLite database\n",
    "sqlite_conn = sqlite3.connect(\"./data/danbooru2023.db\")\n",
    "duckdb_conn = duckdb.connect(f\"./data/danbooru2023.duckdb\")"
   ]
  },
  {
   "cell_type": "code",
   "execution_count": 24,
   "metadata": {},
   "outputs": [
    {
     "name": "stderr",
     "output_type": "stream",
     "text": [
      "  0%|          | 0/4 [00:00<?, ?it/s]"
     ]
    },
    {
     "data": {
      "application/vnd.jupyter.widget-view+json": {
       "model_id": "f0451e4a131d4d3dba767373265378a7",
       "version_major": 2,
       "version_minor": 0
      },
      "text/plain": [
       "FloatProgress(value=0.0, layout=Layout(width='auto'), style=ProgressStyle(bar_color='black'))"
      ]
     },
     "metadata": {},
     "output_type": "display_data"
    },
    {
     "name": "stderr",
     "output_type": "stream",
     "text": [
      " 50%|█████     | 2/4 [01:28<01:13, 36.52s/it]"
     ]
    },
    {
     "data": {
      "application/vnd.jupyter.widget-view+json": {
       "model_id": "23e900df88ae41228b5177962c6e5c24",
       "version_major": 2,
       "version_minor": 0
      },
      "text/plain": [
       "FloatProgress(value=0.0, layout=Layout(width='auto'), style=ProgressStyle(bar_color='black'))"
      ]
     },
     "metadata": {},
     "output_type": "display_data"
    },
    {
     "name": "stderr",
     "output_type": "stream",
     "text": [
      "100%|██████████| 4/4 [06:56<00:00, 104.21s/it]\n"
     ]
    }
   ],
   "source": [
    "# Get list of all tables\n",
    "cursor = sqlite_conn.cursor()\n",
    "cursor.execute(\"SELECT name FROM sqlite_master WHERE type='table';\")\n",
    "tables = cursor.fetchall()\n",
    "dfs = []\n",
    "\n",
    "for table in tqdm(tables):\n",
    "    table_name = table[0]\n",
    "    # Read the SQLite table into a pandas DataFrame\n",
    "    df = pd.read_sql_query(f\"SELECT * FROM {table_name}\", sqlite_conn)\n",
    "    df.to_parquet(f\"./data/{table_name}.parquet\")\n",
    "    dfs.append(df)\n",
    "    duckdb_conn.execute(f\"CREATE TABLE {table_name} AS SELECT * FROM './data/{table_name}.parquet'\")"
   ]
  },
  {
   "cell_type": "code",
   "execution_count": 25,
   "metadata": {},
   "outputs": [],
   "source": [
    "duckdb_conn.close()\n",
    "sqlite_conn.close()"
   ]
  },
  {
   "cell_type": "code",
   "execution_count": 26,
   "metadata": {},
   "outputs": [
    {
     "data": {
      "application/vnd.jupyter.widget-view+json": {
       "model_id": "c52436631390405c8e8c8e86ffd722bc",
       "version_major": 2,
       "version_minor": 0
      },
      "text/plain": [
       "FloatProgress(value=0.0, layout=Layout(width='auto'), style=ProgressStyle(bar_color='black'))"
      ]
     },
     "metadata": {},
     "output_type": "display_data"
    },
    {
     "data": {
      "application/vnd.jupyter.widget-view+json": {
       "model_id": "8e88cbad78e943519e5bef4040185d2e",
       "version_major": 2,
       "version_minor": 0
      },
      "text/plain": [
       "FloatProgress(value=0.0, layout=Layout(width='auto'), style=ProgressStyle(bar_color='black'))"
      ]
     },
     "metadata": {},
     "output_type": "display_data"
    },
    {
     "data": {
      "text/plain": [
       "<duckdb.duckdb.DuckDBPyConnection at 0x1280c15b230>"
      ]
     },
     "execution_count": 26,
     "metadata": {},
     "output_type": "execute_result"
    }
   ],
   "source": [
    "import shutil\n",
    "shutil.copyfile(\"./data/danbooru2023.duckdb\", \"./data/danbooru2023-no-index.duckdb\")\n",
    "duckdb_conn = duckdb.connect(f\"./data/danbooru2023.duckdb\")\n",
    "duckdb_conn.execute(\"CREATE INDEX post_id_relation ON posttagrelation(post_id)\")\n",
    "duckdb_conn.execute(\"CREATE INDEX tag_id_relation ON posttagrelation(tag_id)\")\n",
    "duckdb_conn.execute(\"CREATE UNIQUE INDEX post_id ON post(id)\")\n",
    "duckdb_conn.execute(\"CREATE UNIQUE INDEX tag_name ON tag(name)\")"
   ]
  },
  {
   "cell_type": "code",
   "execution_count": 3,
   "metadata": {},
   "outputs": [
    {
     "ename": "OperationalError",
     "evalue": "database table is locked",
     "output_type": "error",
     "traceback": [
      "\u001b[1;31m---------------------------------------------------------------------------\u001b[0m",
      "\u001b[1;31mOperationalError\u001b[0m                          Traceback (most recent call last)",
      "Cell \u001b[1;32mIn[3], line 14\u001b[0m\n\u001b[0;32m     12\u001b[0m \u001b[38;5;66;03m# Execute each DROP INDEX statement\u001b[39;00m\n\u001b[0;32m     13\u001b[0m \u001b[38;5;28;01mfor\u001b[39;00m statement \u001b[38;5;129;01min\u001b[39;00m drop_statements:\n\u001b[1;32m---> 14\u001b[0m     \u001b[43mconn\u001b[49m\u001b[38;5;241;43m.\u001b[39;49m\u001b[43mexecute\u001b[49m\u001b[43m(\u001b[49m\u001b[43mstatement\u001b[49m\u001b[43m[\u001b[49m\u001b[38;5;241;43m0\u001b[39;49m\u001b[43m]\u001b[49m\u001b[43m)\u001b[49m\n",
      "\u001b[1;31mOperationalError\u001b[0m: database table is locked"
     ]
    }
   ],
   "source": [
    "import shutil\n",
    "# shutil.copyfile(\"./data/danbooru2023.db\", \"./data/danbooru2023-no-index.db\")\n",
    "conn = sqlite3.connect(\"./data/danbooru2023-no-index.db\")\n",
    "drop_statements = conn.execute(\n",
    "    \"\"\"\n",
    "SELECT 'DROP INDEX IF EXISTS ' || name || ';'\n",
    "FROM sqlite_master\n",
    "WHERE type = 'index' AND name NOT LIKE 'sqlite_%';\n",
    "\"\"\".strip()\n",
    ")\n",
    "\n",
    "# Execute each DROP INDEX statement\n",
    "for statement in drop_statements:\n",
    "    conn.execute(statement[0])"
   ]
  },
  {
   "cell_type": "code",
   "execution_count": 29,
   "metadata": {},
   "outputs": [],
   "source": [
    "conn.close()"
   ]
  }
 ],
 "metadata": {
  "kernelspec": {
   "display_name": "Python 3",
   "language": "python",
   "name": "python3"
  },
  "language_info": {
   "codemirror_mode": {
    "name": "ipython",
    "version": 3
   },
   "file_extension": ".py",
   "mimetype": "text/x-python",
   "name": "python",
   "nbconvert_exporter": "python",
   "pygments_lexer": "ipython3",
   "version": "3.11.7"
  }
 },
 "nbformat": 4,
 "nbformat_minor": 2
}
